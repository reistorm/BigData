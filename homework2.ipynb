{
  "nbformat": 4,
  "nbformat_minor": 0,
  "metadata": {
    "colab": {
      "provenance": [],
      "authorship_tag": "ABX9TyO2TEfnah0AOonjTzrMjq5V",
      "include_colab_link": true
    },
    "kernelspec": {
      "name": "python3",
      "display_name": "Python 3"
    },
    "language_info": {
      "name": "python"
    }
  },
  "cells": [
    {
      "cell_type": "markdown",
      "metadata": {
        "id": "view-in-github",
        "colab_type": "text"
      },
      "source": [
        "<a href=\"https://colab.research.google.com/github/reistorm/BigData/blob/main/homework2.ipynb\" target=\"_parent\"><img src=\"https://colab.research.google.com/assets/colab-badge.svg\" alt=\"Open In Colab\"/></a>"
      ]
    },
    {
      "cell_type": "code",
      "source": [
        "!pip install opendatasets"
      ],
      "metadata": {
        "colab": {
          "base_uri": "https://localhost:8080/"
        },
        "id": "QGdrFePltyXU",
        "outputId": "2bc38498-3b68-468e-e26f-09157dba3f5e"
      },
      "execution_count": 2,
      "outputs": [
        {
          "output_type": "stream",
          "name": "stdout",
          "text": [
            "Collecting opendatasets\n",
            "  Downloading opendatasets-0.1.22-py3-none-any.whl (15 kB)\n",
            "Requirement already satisfied: tqdm in /usr/local/lib/python3.10/dist-packages (from opendatasets) (4.66.2)\n",
            "Requirement already satisfied: kaggle in /usr/local/lib/python3.10/dist-packages (from opendatasets) (1.5.16)\n",
            "Requirement already satisfied: click in /usr/local/lib/python3.10/dist-packages (from opendatasets) (8.1.7)\n",
            "Requirement already satisfied: six>=1.10 in /usr/local/lib/python3.10/dist-packages (from kaggle->opendatasets) (1.16.0)\n",
            "Requirement already satisfied: certifi in /usr/local/lib/python3.10/dist-packages (from kaggle->opendatasets) (2024.2.2)\n",
            "Requirement already satisfied: python-dateutil in /usr/local/lib/python3.10/dist-packages (from kaggle->opendatasets) (2.8.2)\n",
            "Requirement already satisfied: requests in /usr/local/lib/python3.10/dist-packages (from kaggle->opendatasets) (2.31.0)\n",
            "Requirement already satisfied: python-slugify in /usr/local/lib/python3.10/dist-packages (from kaggle->opendatasets) (8.0.4)\n",
            "Requirement already satisfied: urllib3 in /usr/local/lib/python3.10/dist-packages (from kaggle->opendatasets) (2.0.7)\n",
            "Requirement already satisfied: bleach in /usr/local/lib/python3.10/dist-packages (from kaggle->opendatasets) (6.1.0)\n",
            "Requirement already satisfied: webencodings in /usr/local/lib/python3.10/dist-packages (from bleach->kaggle->opendatasets) (0.5.1)\n",
            "Requirement already satisfied: text-unidecode>=1.3 in /usr/local/lib/python3.10/dist-packages (from python-slugify->kaggle->opendatasets) (1.3)\n",
            "Requirement already satisfied: charset-normalizer<4,>=2 in /usr/local/lib/python3.10/dist-packages (from requests->kaggle->opendatasets) (3.3.2)\n",
            "Requirement already satisfied: idna<4,>=2.5 in /usr/local/lib/python3.10/dist-packages (from requests->kaggle->opendatasets) (3.6)\n",
            "Installing collected packages: opendatasets\n",
            "Successfully installed opendatasets-0.1.22\n"
          ]
        }
      ]
    },
    {
      "cell_type": "code",
      "source": [
        "import opendatasets as od\n",
        "import pandas as pd\n",
        "from pathlib import Path\n",
        "import time\n",
        "import csv"
      ],
      "metadata": {
        "id": "js5wYawft117"
      },
      "execution_count": 3,
      "outputs": []
    },
    {
      "cell_type": "code",
      "source": [
        "dataset_path = Path('new-york-city-airbnb-open-data')\n",
        "if not dataset_path.is_file():\n",
        "    od.download('https://www.kaggle.com/dgomonov/new-york-city-airbnb-open-data')"
      ],
      "metadata": {
        "colab": {
          "base_uri": "https://localhost:8080/"
        },
        "id": "Ib6ljV_ut5u9",
        "outputId": "ccd47aa0-69ec-40ce-9685-6b41bdd3d36c"
      },
      "execution_count": 4,
      "outputs": [
        {
          "output_type": "stream",
          "name": "stdout",
          "text": [
            "Please provide your Kaggle credentials to download this dataset. Learn more: http://bit.ly/kaggle-creds\n",
            "Your Kaggle username: elistorm\n",
            "Your Kaggle Key: ··········\n",
            "Downloading new-york-city-airbnb-open-data.zip to ./new-york-city-airbnb-open-data\n"
          ]
        },
        {
          "output_type": "stream",
          "name": "stderr",
          "text": [
            "100%|██████████| 2.44M/2.44M [00:00<00:00, 128MB/s]"
          ]
        },
        {
          "output_type": "stream",
          "name": "stdout",
          "text": [
            "\n"
          ]
        },
        {
          "output_type": "stream",
          "name": "stderr",
          "text": [
            "\n"
          ]
        }
      ]
    },
    {
      "cell_type": "code",
      "source": [
        "def open_csv_file(path_csv_file,field):\n",
        "    list_csv_field = []\n",
        "\n",
        "    with open(path_csv_file, newline='', encoding='utf-8') as file:\n",
        "        csv_file = csv.DictReader(file)\n",
        "        for dataline in csv_file:\n",
        "            list_csv_field.append(dataline[field])\n",
        "\n",
        "    return list_csv_field\n",
        "\n",
        "def mapper(price):\n",
        "        return [0, int(price), 0] # -> Количество, среднее значение, дисперсия\n",
        "\n",
        "\n",
        "def reducer(data1, data2):\n",
        "    # data1[0] - n\n",
        "    # data1[1] - mean\n",
        "    # data1[2] - m2\n",
        "    # data2[1] - price\n",
        "\n",
        "    data1[0] += 1\n",
        "    delta = data2[1] - data1[1]\n",
        "    data1[1] += delta / data1[0]\n",
        "    data1[2] += delta * (data2[1] - data1[1])\n",
        "    return data1"
      ],
      "metadata": {
        "id": "S4pkHITIunLu"
      },
      "execution_count": 6,
      "outputs": []
    },
    {
      "cell_type": "code",
      "source": [
        "%%time\n",
        "from functools import reduce\n",
        "\n",
        "n, mean, m2 = reduce(reducer, map(mapper, open_csv_file(\"new-york-city-airbnb-open-data/AB_NYC_2019.csv\", \"price\")))\n",
        "print(mean, (m2 / n) ** (1/2))"
      ],
      "metadata": {
        "colab": {
          "base_uri": "https://localhost:8080/"
        },
        "id": "iQDRcVZ-uwye",
        "outputId": "2b540032-4741-4bce-bb65-daa8070f10c2"
      },
      "execution_count": 7,
      "outputs": [
        {
          "output_type": "stream",
          "name": "stdout",
          "text": [
            "152.72076328383835 240.15416915769237\n",
            "CPU times: user 296 ms, sys: 12 ms, total: 308 ms\n",
            "Wall time: 306 ms\n"
          ]
        }
      ]
    }
  ]
}