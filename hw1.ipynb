{
  "cells": [
    {
      "cell_type": "code",
      "execution_count": 1,
      "metadata": {
        "trusted": true
      },
      "outputs": [
        {
          "ename": "NameError",
          "evalue": "name 'Path' is not defined",
          "output_type": "error",
          "traceback": [
            "\u001b[1;31m---------------------------------------------------------------------------\u001b[0m",
            "\u001b[1;31mNameError\u001b[0m                                 Traceback (most recent call last)",
            "Cell \u001b[1;32mIn[1], line 5\u001b[0m\n\u001b[0;32m      1\u001b[0m \u001b[38;5;28;01mimport\u001b[39;00m \u001b[38;5;21;01mjson\u001b[39;00m\n\u001b[0;32m      4\u001b[0m n, mean, M2 \u001b[38;5;241m=\u001b[39m \u001b[38;5;241m0\u001b[39m, \u001b[38;5;241m0.0\u001b[39m, \u001b[38;5;241m0\u001b[39m\n\u001b[1;32m----> 5\u001b[0m \u001b[38;5;28;01mfor\u001b[39;00m path \u001b[38;5;129;01min\u001b[39;00m \u001b[43mPath\u001b[49m(\u001b[38;5;124m'\u001b[39m\u001b[38;5;124mimdb-user-reviews\u001b[39m\u001b[38;5;124m'\u001b[39m)\u001b[38;5;241m.\u001b[39mglob(\u001b[38;5;124m'\u001b[39m\u001b[38;5;124m**/*\u001b[39m\u001b[38;5;124m'\u001b[39m):\n\u001b[0;32m      6\u001b[0m     \u001b[38;5;28;01mif\u001b[39;00m path\u001b[38;5;241m.\u001b[39mis_file() \u001b[38;5;129;01mand\u001b[39;00m path\u001b[38;5;241m.\u001b[39msuffix \u001b[38;5;241m==\u001b[39m \u001b[38;5;124m'\u001b[39m\u001b[38;5;124m.json\u001b[39m\u001b[38;5;124m'\u001b[39m:\n\u001b[0;32m      7\u001b[0m         \u001b[38;5;28;01mwith\u001b[39;00m \u001b[38;5;28mopen\u001b[39m(path, \u001b[38;5;124m'\u001b[39m\u001b[38;5;124mr\u001b[39m\u001b[38;5;124m'\u001b[39m) \u001b[38;5;28;01mas\u001b[39;00m f:\n",
            "\u001b[1;31mNameError\u001b[0m: name 'Path' is not defined"
          ]
        }
      ],
      "source": [
        "import json\n",
        "\n",
        "\n",
        "n, mean, M2 = 0, 0.0, 0\n",
        "for path in Path('imdb-user-reviews').glob('**/*'):\n",
        "    if path.is_file() and path.suffix == '.json':\n",
        "        with open(path, 'r') as f:\n",
        "            info = json.load(f)\n",
        "        score = float(info['movieIMDbRating'])\n",
        "        n += 1\n",
        "        delta = score - mean\n",
        "        mean += delta / n\n",
        "        M2 += delta * (score - mean)\n",
        "\n",
        "print(mean, (M2 / n) ** (1/2))"
      ]
    },
    {
      "cell_type": "code",
      "execution_count": null,
      "metadata": {
        "trusted": true
      },
      "outputs": [],
      "source": [
        "def mapper(path):\n",
        "    if path.is_file() and path.suffix == '.json':\n",
        "        with open(path, 'r') as f:\n",
        "            info = json.load(f)\n",
        "        return (float(info['movieIMDbRating']), )\n",
        "\n",
        "\n",
        "def reducer(score_data1, score_data2):\n",
        "    if score_data1 is None and score_data2 is None:\n",
        "        return None\n",
        "    elif score_data1 is None:\n",
        "        return score_data2\n",
        "    elif score_data2 is None:\n",
        "        return score_data1\n",
        "    else:\n",
        "        scores = []\n",
        "        if len(score_data1) == 1:\n",
        "        n, mean, M2 = 0, 0.0, 0\n",
        "        scores.append(score_data1)\n",
        "    else:\n",
        "        n, mean, M2 = score_data2\n",
        "    scores.append(score_data2[0])\n",
        "    for score in scores:\n",
        "        n += 1\n",
        "        delta = score - mean\n",
        "        mean += delta / n\n",
        "        M2 +=delta * (score - mean)\n",
        "    return n, mean, M2"
      ]
    },
    {
      "cell_type": "code",
      "execution_count": null,
      "metadata": {
        "trusted": true
      },
      "outputs": [],
      "source": [
        "%%time\n",
        "n, mean, M2 = reduce(reducer, map(mapper, Path('imdb-user-reviews').glob('**/*')))\n",
        "print(mean, (M2 / n) ** (1/2))"
      ]
    },
    {
      "cell_type": "code",
      "execution_count": null,
      "metadata": {
        "trusted": true
      },
      "outputs": [],
      "source": [
        "%%time\n",
        "n, mean, M2 = reduce(reducer, Parallel(n_jobs=2)(delayed(mapper)(path) for path in Path('imdb-user-reviews').glob('**/*')))\n",
        "print(mean, (M2 / n) ** (1/2))"
      ]
    },
    {
      "cell_type": "code",
      "execution_count": null,
      "metadata": {
        "trusted": true
      },
      "outputs": [],
      "source": []
    }
  ],
  "metadata": {
    "kernelspec": {
      "display_name": "Python 3",
      "language": "python",
      "name": "python3"
    },
    "language_info": {
      "codemirror_mode": {
        "name": "ipython",
        "version": 3
      },
      "file_extension": ".py",
      "mimetype": "text/x-python",
      "name": "python",
      "nbconvert_exporter": "python",
      "pygments_lexer": "ipython3",
      "version": "3.10.7"
    }
  },
  "nbformat": 4,
  "nbformat_minor": 4
}
