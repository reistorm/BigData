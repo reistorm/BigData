{
  "nbformat": 4,
  "nbformat_minor": 0,
  "metadata": {
    "colab": {
      "provenance": [],
      "authorship_tag": "ABX9TyPEzCjxwrWslztoflUOb11F",
      "include_colab_link": true
    },
    "kernelspec": {
      "name": "python3",
      "display_name": "Python 3"
    },
    "language_info": {
      "name": "python"
    }
  },
  "cells": [
    {
      "cell_type": "markdown",
      "metadata": {
        "id": "view-in-github",
        "colab_type": "text"
      },
      "source": [
        "<a href=\"https://colab.research.google.com/github/reistorm/BigData/blob/main/homework1.ipynb\" target=\"_parent\"><img src=\"https://colab.research.google.com/assets/colab-badge.svg\" alt=\"Open In Colab\"/></a>"
      ]
    },
    {
      "cell_type": "code",
      "execution_count": null,
      "metadata": {
        "id": "dVoJWc0RPvHq",
        "colab": {
          "base_uri": "https://localhost:8080/"
        },
        "outputId": "26944d01-044f-440b-9b85-48ac75942ab5"
      },
      "outputs": [
        {
          "output_type": "stream",
          "name": "stdout",
          "text": [
            "[1, 16, 36, 81, 144]\n"
          ]
        }
      ],
      "source": [
        "numbers = [1, 4, 6, 9, 12]\n",
        "newNumbers = list(map(lambda x: x ** 2, numbers))\n",
        "print(newNumbers)"
      ]
    },
    {
      "cell_type": "code",
      "source": [
        "!pip install opendatasets"
      ],
      "metadata": {
        "colab": {
          "base_uri": "https://localhost:8080/"
        },
        "id": "LgXcGOamWyUD",
        "outputId": "c6484116-f329-4b0f-a8bb-b7729e3a4fa3"
      },
      "execution_count": null,
      "outputs": [
        {
          "output_type": "stream",
          "name": "stdout",
          "text": [
            "Collecting opendatasets\n",
            "  Downloading opendatasets-0.1.22-py3-none-any.whl (15 kB)\n",
            "Requirement already satisfied: tqdm in /usr/local/lib/python3.10/dist-packages (from opendatasets) (4.66.2)\n",
            "Requirement already satisfied: kaggle in /usr/local/lib/python3.10/dist-packages (from opendatasets) (1.5.16)\n",
            "Requirement already satisfied: click in /usr/local/lib/python3.10/dist-packages (from opendatasets) (8.1.7)\n",
            "Requirement already satisfied: six>=1.10 in /usr/local/lib/python3.10/dist-packages (from kaggle->opendatasets) (1.16.0)\n",
            "Requirement already satisfied: certifi in /usr/local/lib/python3.10/dist-packages (from kaggle->opendatasets) (2024.2.2)\n",
            "Requirement already satisfied: python-dateutil in /usr/local/lib/python3.10/dist-packages (from kaggle->opendatasets) (2.8.2)\n",
            "Requirement already satisfied: requests in /usr/local/lib/python3.10/dist-packages (from kaggle->opendatasets) (2.31.0)\n",
            "Requirement already satisfied: python-slugify in /usr/local/lib/python3.10/dist-packages (from kaggle->opendatasets) (8.0.4)\n",
            "Requirement already satisfied: urllib3 in /usr/local/lib/python3.10/dist-packages (from kaggle->opendatasets) (2.0.7)\n",
            "Requirement already satisfied: bleach in /usr/local/lib/python3.10/dist-packages (from kaggle->opendatasets) (6.1.0)\n",
            "Requirement already satisfied: webencodings in /usr/local/lib/python3.10/dist-packages (from bleach->kaggle->opendatasets) (0.5.1)\n",
            "Requirement already satisfied: text-unidecode>=1.3 in /usr/local/lib/python3.10/dist-packages (from python-slugify->kaggle->opendatasets) (1.3)\n",
            "Requirement already satisfied: charset-normalizer<4,>=2 in /usr/local/lib/python3.10/dist-packages (from requests->kaggle->opendatasets) (3.3.2)\n",
            "Requirement already satisfied: idna<4,>=2.5 in /usr/local/lib/python3.10/dist-packages (from requests->kaggle->opendatasets) (3.6)\n",
            "Installing collected packages: opendatasets\n",
            "Successfully installed opendatasets-0.1.22\n"
          ]
        }
      ]
    },
    {
      "cell_type": "code",
      "source": [
        "import opendatasets as od\n",
        "import pandas as pd\n",
        "import time\n",
        "from pathlib import Path"
      ],
      "metadata": {
        "id": "st4oKrBJXIWG"
      },
      "execution_count": null,
      "outputs": []
    },
    {
      "cell_type": "code",
      "source": [
        "dataset_path = Path('imdb-user-reviews', 'song_lyrics.csv')\n",
        "if not dataset_path.is_file():\n",
        "    od.download('https://www.kaggle.com/datasets/sadmadlad/imdb-user-reviews')\n"
      ],
      "metadata": {
        "colab": {
          "base_uri": "https://localhost:8080/"
        },
        "id": "KLvwSongceAr",
        "outputId": "6ceefa95-9149-4d5a-9017-9583eb393205"
      },
      "execution_count": null,
      "outputs": [
        {
          "output_type": "stream",
          "name": "stdout",
          "text": [
            "Please provide your Kaggle credentials to download this dataset. Learn more: http://bit.ly/kaggle-creds\n",
            "Your Kaggle username: elistorm\n",
            "Your Kaggle Key: ··········\n",
            "Downloading imdb-user-reviews.zip to ./imdb-user-reviews\n"
          ]
        },
        {
          "output_type": "stream",
          "name": "stderr",
          "text": [
            "100%|██████████| 15.1M/15.1M [00:00<00:00, 31.7MB/s]\n"
          ]
        },
        {
          "output_type": "stream",
          "name": "stdout",
          "text": [
            "\n"
          ]
        }
      ]
    },
    {
      "cell_type": "code",
      "source": [
        "!nproc"
      ],
      "metadata": {
        "colab": {
          "base_uri": "https://localhost:8080/"
        },
        "id": "uxk0hBpgc2Ru",
        "outputId": "6848461a-c6d5-4715-f0a1-8641aedcf036"
      },
      "execution_count": null,
      "outputs": [
        {
          "output_type": "stream",
          "name": "stdout",
          "text": [
            "2\n"
          ]
        }
      ]
    },
    {
      "cell_type": "code",
      "source": [
        "import json\n",
        "\n",
        "\n",
        "n, mean, M2 = 0, 0.0, 0\n",
        "for path in Path('imdb-user-reviews').glob('**/*'):\n",
        "    if path.is_file() and path.suffix == '.json':\n",
        "        with open(path, 'r') as f:\n",
        "            info = json.load(f)\n",
        "        score = float(info['movieIMDbRating'])\n",
        "        n += 1\n",
        "        delta = score - mean\n",
        "        mean += delta / n\n",
        "        M2 += delta * (score - mean)\n",
        "\n",
        "print(mean, (M2 / n) ** (1/2))"
      ],
      "metadata": {
        "colab": {
          "base_uri": "https://localhost:8080/"
        },
        "id": "zsxGl-7oeh4D",
        "outputId": "6a603807-18ac-4103-fd01-295acd46144a"
      },
      "execution_count": null,
      "outputs": [
        {
          "output_type": "stream",
          "name": "stdout",
          "text": [
            "8.03 1.0517128885774865\n"
          ]
        }
      ]
    },
    {
      "cell_type": "code",
      "source": [
        "\n",
        "def mapper(path):\n",
        "    if path.is_file() and path.suffix == '.json':\n",
        "      with open(path, 'r') as f:\n",
        "        info = json.load(f)\n",
        "      return (float(info['movieIMDbRating']), )\n",
        "\n",
        "\n",
        "def reducer(score_data1, score_data2):\n",
        "    if score_data1 is None and score_data2 is None:\n",
        "      return None\n",
        "    elif score_data1 is None:\n",
        "      return score_data2\n",
        "    elif score_data2 is None:\n",
        "      return score_data1\n",
        "    else:\n",
        "      scores = []\n",
        "    if len(score_data1) == 1:\n",
        "      n, mean, M2 = 0, 0.0, 0\n",
        "      scores.append(score_data1)\n",
        "    else:\n",
        "      n, mean, M2 = score_data2\n",
        "    scores.append(score_data2[0])\n",
        "    for score in scores:\n",
        "      n += 1\n",
        "      delta = score - mean\n",
        "      mean += delta / n\n",
        "      M2 += delta * (score - mean)\n",
        "    return n, mean, M2"
      ],
      "metadata": {
        "id": "IzO1SQo8fdjT"
      },
      "execution_count": 7,
      "outputs": []
    }
  ]
}